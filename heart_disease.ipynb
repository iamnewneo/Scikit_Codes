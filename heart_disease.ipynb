{
 "cells": [
  {
   "cell_type": "code",
   "execution_count": 2,
   "metadata": {
    "collapsed": false
   },
   "outputs": [],
   "source": [
    "%matplotlib inline\n",
    "import warnings\n",
    "warnings.filterwarnings('ignore')\n",
    "import seaborn as sns\n",
    "import pandas as pd\n",
    "import numpy as np\n",
    "sns.set()\n",
    "import matplotlib.pyplot as plt\n",
    "from sklearn.cross_validation import train_test_split"
   ]
  },
  {
   "cell_type": "code",
   "execution_count": 3,
   "metadata": {
    "collapsed": false
   },
   "outputs": [],
   "source": [
    "cols = ['age','sex','chestpain','restingbp','cholestrol','fastbloodsugar','restecg','thalach','exang','oldpeak','slope','ca','thal','num']\n",
    "df_cleveland = pd.read_table('./Heart_Disease_Dataset/processed.cleveland.data',names=cols,sep=',')\n",
    "df_va = pd.read_table('./Heart_Disease_Dataset/processed.va.data',names=cols,sep=',')\n",
    "df_switzerland = pd.read_table('./Heart_Disease_Dataset/processed.switzerland.data',names=cols,sep=',')\n",
    "df_hungarian = pd.read_table('./Heart_Disease_Dataset/processed.hungarian.data',names=cols,sep=',')"
   ]
  },
  {
   "cell_type": "code",
   "execution_count": 4,
   "metadata": {
    "collapsed": false
   },
   "outputs": [],
   "source": [
    "result = pd.concat([df_cleveland,df_hungarian,df_switzerland,df_va])"
   ]
  },
  {
   "cell_type": "code",
   "execution_count": 5,
   "metadata": {
    "collapsed": false
   },
   "outputs": [],
   "source": [
    "describe = result.describe()\n",
    "my_index = list(range(0,920))\n"
   ]
  },
  {
   "cell_type": "code",
   "execution_count": 6,
   "metadata": {
    "collapsed": false
   },
   "outputs": [],
   "source": [
    "data=result\n",
    "data.reset_index(inplace=True)"
   ]
  },
  {
   "cell_type": "code",
   "execution_count": 75,
   "metadata": {
    "collapsed": false
   },
   "outputs": [
    {
     "data": {
      "text/plain": [
       "age               0\n",
       "sex               0\n",
       "chestpain         0\n",
       "restingbp         0\n",
       "cholestrol        0\n",
       "fastbloodsugar    0\n",
       "restecg           0\n",
       "thalach           0\n",
       "exang             0\n",
       "oldpeak           0\n",
       "num               0\n",
       "dtype: int64"
      ]
     },
     "execution_count": 75,
     "metadata": {},
     "output_type": "execute_result"
    }
   ],
   "source": [
    "data.replace('?',np.nan,inplace=True)\n",
    "data.isnull().sum()"
   ]
  },
  {
   "cell_type": "code",
   "execution_count": 8,
   "metadata": {
    "collapsed": false
   },
   "outputs": [],
   "source": [
    "data.drop(['slope','ca','thal','index'],1,inplace=True)"
   ]
  },
  {
   "cell_type": "code",
   "execution_count": 20,
   "metadata": {
    "collapsed": false
   },
   "outputs": [],
   "source": [
    "data.dropna(inplace=True)\n",
    "pd.to_numeric(data['restingbp'],errors='coerce')\n",
    "data.convert_objects(convert_numeric=True)\n",
    "#data['restingbp']=data['restingbp'].astype(float)\n",
    "data = data.astype(float)"
   ]
  },
  {
   "cell_type": "code",
   "execution_count": 24,
   "metadata": {
    "collapsed": false
   },
   "outputs": [],
   "source": [
    "X = data.values[:,:10]\n",
    "y = data.values[:,10]"
   ]
  },
  {
   "cell_type": "code",
   "execution_count": 40,
   "metadata": {
    "collapsed": true
   },
   "outputs": [],
   "source": [
    "from sklearn.neighbors import KNeighborsClassifier\n",
    "from sklearn.grid_search import GridSearchCV\n",
    "from sklearn.cross_validation import train_test_split\n",
    "from sklearn.metrics import accuracy_score,confusion_matrix\n",
    "X_train,X_test,y_train,y_test = train_test_split(X,y,random_state=4)\n",
    "k_neighbor = KNeighborsClassifier()"
   ]
  },
  {
   "cell_type": "code",
   "execution_count": 33,
   "metadata": {
    "collapsed": false
   },
   "outputs": [],
   "source": [
    "neighbor_opt = list(range(1,10))\n",
    "weights_opt = ['uniform','distance']\n",
    "algo_opt = ['auto','kd_tree','ball_tree','brute']\n",
    "param_grid = dict(n_neighbors=neighbor_opt,weights=weights_opt,algorithm=algo_opt)\n",
    "grid = GridSearchCV(k_neighbor,param_grid,cv=10,scoring='accuracy',n_jobs=-1)"
   ]
  },
  {
   "cell_type": "code",
   "execution_count": 34,
   "metadata": {
    "collapsed": false
   },
   "outputs": [
    {
     "name": "stdout",
     "output_type": "stream",
     "text": [
      "CPU times: user 858 ms, sys: 127 ms, total: 985 ms\n",
      "Wall time: 1.7 s\n"
     ]
    },
    {
     "data": {
      "text/plain": [
       "{'algorithm': 'auto', 'n_neighbors': 6, 'weights': 'uniform'}"
      ]
     },
     "execution_count": 34,
     "metadata": {},
     "output_type": "execute_result"
    }
   ],
   "source": [
    "%time grid.fit(X_train,y_train)\n",
    "grid.best_params_"
   ]
  },
  {
   "cell_type": "code",
   "execution_count": 47,
   "metadata": {
    "collapsed": false
   },
   "outputs": [
    {
     "data": {
      "text/plain": [
       "0.51711711711711716"
      ]
     },
     "execution_count": 47,
     "metadata": {},
     "output_type": "execute_result"
    }
   ],
   "source": [
    "grid.best_score_"
   ]
  },
  {
   "cell_type": "code",
   "execution_count": 46,
   "metadata": {
    "collapsed": false
   },
   "outputs": [
    {
     "name": "stdout",
     "output_type": "stream",
     "text": [
      "0.432432432432\n"
     ]
    },
    {
     "data": {
      "text/plain": [
       "array([[60, 16,  2,  2,  0],\n",
       "       [32, 15,  5,  5,  0],\n",
       "       [ 8,  6,  4,  1,  0],\n",
       "       [12,  8,  0,  1,  0],\n",
       "       [ 2,  5,  0,  1,  0]])"
      ]
     },
     "execution_count": 46,
     "metadata": {},
     "output_type": "execute_result"
    }
   ],
   "source": [
    "y_pred = grid.predict(X_test)\n",
    "print(accuracy_score(y_pred,y_test))\n",
    "confusion_matrix(y_test,y_pred)\n"
   ]
  },
  {
   "cell_type": "code",
   "execution_count": 66,
   "metadata": {
    "collapsed": false
   },
   "outputs": [
    {
     "data": {
      "text/plain": [
       "GridSearchCV(cv=10, error_score='raise',\n",
       "       estimator=SVC(C=1.0, cache_size=200, class_weight=None, coef0=0.0, degree=3, gamma=0.01,\n",
       "  kernel='rbf', max_iter=-1, probability=False, random_state=None,\n",
       "  shrinking=True, tol=0.001, verbose=False),\n",
       "       fit_params={}, iid=True, loss_func=None, n_jobs=-1,\n",
       "       param_grid={'gamma': array([ 0.     ,  0.01053,  0.02105,  0.03158,  0.04211,  0.05263,\n",
       "        0.06316,  0.07368,  0.08421,  0.09474,  0.10526,  0.11579,\n",
       "        0.12632,  0.13684,  0.14737,  0.15789,  0.16842,  0.17895,\n",
       "        0.18947,  0.2    ]), 'C': array([ 0.5    ,  0.61111,  0.72222,  0.83333,  0.94444,  1.05556,\n",
       "        1.16667,  1.27778,  1.38889,  1.5    ])},\n",
       "       pre_dispatch='2*n_jobs', refit=True, score_func=None,\n",
       "       scoring='accuracy', verbose=0)"
      ]
     },
     "execution_count": 66,
     "metadata": {},
     "output_type": "execute_result"
    }
   ],
   "source": [
    "from sklearn.svm import SVC\n",
    "gama=np.linspace(0.0,0.2,20)\n",
    "c = np.linspace(0.5,1.5,10)\n",
    "svm_model = SVC(gamma=0.01)\n",
    "param_grid_new = dict(C=c,gamma=gama)\n",
    "grid_new = GridSearchCV(svm_model,param_grid=param_grid_new,cv=10,scoring='accuracy',n_jobs=-1)\n",
    "grid_new.fit(X_train,y_train)"
   ]
  },
  {
   "cell_type": "code",
   "execution_count": 67,
   "metadata": {
    "collapsed": false
   },
   "outputs": [
    {
     "name": "stdout",
     "output_type": "stream",
     "text": [
      "0.432432432432\n",
      "[[60 16  2  2  0]\n",
      " [32 15  5  5  0]\n",
      " [ 8  6  4  1  0]\n",
      " [12  8  0  1  0]\n",
      " [ 2  5  0  1  0]]\n"
     ]
    }
   ],
   "source": [
    "y_pred_svm = grid_new.predict(X_test)\n",
    "grid_new.best_score_\n",
    "print(accuracy_score(y_pred,y_test))\n",
    "print(confusion_matrix(y_test,y_pred))"
   ]
  },
  {
   "cell_type": "code",
   "execution_count": 70,
   "metadata": {
    "collapsed": true
   },
   "outputs": [],
   "source": [
    "from sklearn.ensemble import RandomForestClassifier\n",
    "forest_grid=RandomForestClassifier(n_jobs=-1)\n",
    "criterion_list = ['gini','entropy']\n",
    "n_estimators_list = list(range(5,15))\n",
    "max_features_list = ['auto','log2',None]\n",
    "param_grid_forest = dict(n_estimators=n_estimators_list,max_features=max_features_list,criterion=criterion_list)\n",
    "grid_forest = GridSearchCV(forest_grid,param_grid_forest,cv=10,scoring='accuracy',n_jobs=-1)"
   ]
  },
  {
   "cell_type": "code",
   "execution_count": 71,
   "metadata": {
    "collapsed": false
   },
   "outputs": [
    {
     "name": "stdout",
     "output_type": "stream",
     "text": [
      "CPU times: user 1.1 s, sys: 133 ms, total: 1.23 s\n",
      "Wall time: 32.3 s\n"
     ]
    },
    {
     "data": {
      "text/plain": [
       "GridSearchCV(cv=10, error_score='raise',\n",
       "       estimator=RandomForestClassifier(bootstrap=True, class_weight=None, criterion='gini',\n",
       "            max_depth=None, max_features='auto', max_leaf_nodes=None,\n",
       "            min_samples_leaf=1, min_samples_split=2,\n",
       "            min_weight_fraction_leaf=0.0, n_estimators=10, n_jobs=-1,\n",
       "            oob_score=False, random_state=None, verbose=0,\n",
       "            warm_start=False),\n",
       "       fit_params={}, iid=True, loss_func=None, n_jobs=-1,\n",
       "       param_grid={'criterion': ['gini', 'entropy'], 'max_features': ['auto', 'log2', None], 'n_estimators': [5, 6, 7, 8, 9, 10, 11, 12, 13, 14]},\n",
       "       pre_dispatch='2*n_jobs', refit=True, score_func=None,\n",
       "       scoring='accuracy', verbose=0)"
      ]
     },
     "execution_count": 71,
     "metadata": {},
     "output_type": "execute_result"
    }
   ],
   "source": [
    "%time grid_forest.fit(X_train,y_train)"
   ]
  },
  {
   "cell_type": "code",
   "execution_count": 74,
   "metadata": {
    "collapsed": false
   },
   "outputs": [
    {
     "name": "stdout",
     "output_type": "stream",
     "text": [
      "0.605405405405 {'criterion': 'entropy', 'max_features': 'log2', 'n_estimators': 8}\n"
     ]
    }
   ],
   "source": [
    "y_pred_foest = grid_forest.predict(X_test)\n",
    "print(grid_forest.best_score_,grid_forest.best_params_)"
   ]
  },
  {
   "cell_type": "code",
   "execution_count": 73,
   "metadata": {
    "collapsed": false
   },
   "outputs": [
    {
     "name": "stdout",
     "output_type": "stream",
     "text": [
      "0.486486486486\n"
     ]
    }
   ],
   "source": [
    "print(accuracy_score(y_pred_foest,y_test))"
   ]
  },
  {
   "cell_type": "code",
   "execution_count": null,
   "metadata": {
    "collapsed": false
   },
   "outputs": [],
   "source": []
  },
  {
   "cell_type": "code",
   "execution_count": null,
   "metadata": {
    "collapsed": true
   },
   "outputs": [],
   "source": []
  }
 ],
 "metadata": {
  "kernelspec": {
   "display_name": "Python 3",
   "language": "python",
   "name": "python3"
  },
  "language_info": {
   "codemirror_mode": {
    "name": "ipython",
    "version": 3
   },
   "file_extension": ".py",
   "mimetype": "text/x-python",
   "name": "python",
   "nbconvert_exporter": "python",
   "pygments_lexer": "ipython3",
   "version": "3.5.1"
  }
 },
 "nbformat": 4,
 "nbformat_minor": 0
}
